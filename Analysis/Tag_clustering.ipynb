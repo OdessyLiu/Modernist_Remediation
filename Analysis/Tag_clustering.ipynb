{
 "cells": [
  {
   "cell_type": "code",
   "execution_count": null,
   "metadata": {},
   "outputs": [],
   "source": [
    "from transformers import AutoTokenizer, AutoModel\n",
    "from sklearn.cluster import KMeans\n",
    "import torch\n",
    "import pandas as pd\n",
    "import numpy as np\n",
    "\n",
    "# 加载标签数据\n",
    "file_path = '../Data/Tags/tag_counter.csv'\n",
    "tags_df = pd.read_csv(file_path)\n",
    "\n",
    "# 加载BERT模型\n",
    "tokenizer = AutoTokenizer.from_pretrained(\"bert-base-uncased\")\n",
    "model = AutoModel.from_pretrained(\"bert-base-uncased\")\n",
    "\n",
    "# 获取BERT嵌入\n",
    "def get_embedding(text):\n",
    "    inputs = tokenizer(text, return_tensors=\"pt\", padding=True, truncation=True, max_length=10)\n",
    "    with torch.no_grad():\n",
    "        outputs = model(**inputs)\n",
    "    # 计算[CLS]标记的嵌入表示或平均池化\n",
    "    embedding = outputs.last_hidden_state.mean(dim=1).squeeze()\n",
    "    return embedding.cpu().numpy()\n",
    "\n",
    "# 生成标签嵌入\n",
    "tags_df['embedding'] = tags_df['tag'].apply(get_embedding)\n",
    "\n",
    "# 将嵌入转化为矩阵格式，用于聚类\n",
    "embeddings = np.vstack(tags_df['embedding'].values)\n",
    "\n",
    "# KMeans聚类\n",
    "num_clusters = 10  # 依据实际情况调整聚类数量\n",
    "kmeans = KMeans(n_clusters=num_clusters, random_state=0)\n",
    "tags_df['cluster'] = kmeans.fit_predict(embeddings)\n",
    "\n",
    "# 查看每个聚类的标签\n",
    "clustered_tags = tags_df.groupby('cluster')['tag'].apply(list)\n",
    "\n",
    "# 输出每个聚类中的标签列表\n",
    "print(clustered_tags)\n"
   ]
  },
  {
   "cell_type": "code",
   "execution_count": null,
   "metadata": {},
   "outputs": [],
   "source": []
  }
 ],
 "metadata": {
  "kernelspec": {
   "display_name": "pd_env",
   "language": "python",
   "name": "python3"
  },
  "language_info": {
   "codemirror_mode": {
    "name": "ipython",
    "version": 3
   },
   "file_extension": ".py",
   "mimetype": "text/x-python",
   "name": "python",
   "nbconvert_exporter": "python",
   "pygments_lexer": "ipython3",
   "version": "3.10.2"
  }
 },
 "nbformat": 4,
 "nbformat_minor": 2
}
