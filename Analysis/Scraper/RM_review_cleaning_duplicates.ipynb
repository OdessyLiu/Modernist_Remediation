{
 "cells": [
  {
   "cell_type": "markdown",
   "metadata": {},
   "source": [
    "# Scraped Review Statistics"
   ]
  },
  {
   "cell_type": "code",
   "execution_count": 28,
   "metadata": {},
   "outputs": [],
   "source": [
    "import pandas as pd\n",
    "import os\n",
    "import matplotlib.pyplot as plt"
   ]
  },
  {
   "cell_type": "markdown",
   "metadata": {},
   "source": [
    "## Remove Duplicates"
   ]
  },
  {
   "cell_type": "code",
   "execution_count": 15,
   "metadata": {},
   "outputs": [],
   "source": [
    "def remove_duplicates(file_path):\n",
    "    if os.stat(file_path).st_size == 0:\n",
    "        print(f\"{file_path} is empty\")\n",
    "        return\n",
    "    \n",
    "    df = pd.read_csv(file_path)\n",
    "\n",
    "    if df.empty:\n",
    "        print(f\"{file_path} is empty\")\n",
    "        return\n",
    "    \n",
    "    cleaned_df = df.drop_duplicates(subset=['user_name','text'], ignore_index=True)\n",
    "    cleaned_df.to_csv(file_path, index=False, mode='w')"
   ]
  },
  {
   "cell_type": "code",
   "execution_count": 16,
   "metadata": {},
   "outputs": [],
   "source": [
    "def process_all_files(directory):\n",
    "    for filename in os.listdir(directory):\n",
    "        if filename.endswith(\".csv\"):\n",
    "            file_path = os.path.join(directory, filename)\n",
    "            remove_duplicates(file_path)\n",
    "            print(f\"Processed {filename}\")"
   ]
  },
  {
   "cell_type": "code",
   "execution_count": 17,
   "metadata": {},
   "outputs": [],
   "source": [
    "review_path = \"../../Data/Reviews_Scraped/Raw\"\n",
    "# process_all_files(review_path)"
   ]
  },
  {
   "cell_type": "code",
   "execution_count": 26,
   "metadata": {},
   "outputs": [],
   "source": [
    "metadata_path = \"../../Data/Goodreads_Comics_Data/Data_Files/Masterdata_ongoing.xlsx\"\n",
    "metadata = pd.read_excel(metadata_path, sheet_name=\"BOOK_SHEET\")\n",
    "goodreads_id = metadata['goodreads_id'].tolist()"
   ]
  },
  {
   "cell_type": "code",
   "execution_count": 27,
   "metadata": {},
   "outputs": [
    {
     "data": {
      "text/plain": [
       "['57553105-cypress-hill-tres-equis',\n",
       " '63234758-growing-up-farley-a-chris-farley-story',\n",
       " '59113162-one-bourbon-one-scotch-one-beer',\n",
       " '49930973-clayton']"
      ]
     },
     "execution_count": 27,
     "metadata": {},
     "output_type": "execute_result"
    }
   ],
   "source": [
    "collected_reviews = [f for f in os.listdir(review_path) if f.endswith('.csv')]\n",
    "collected_ids = [f.split('_reviews.csv')[0] for f in collected_reviews]\n",
    "\n",
    "missing_ids = list(set(goodreads_id) - set(collected_ids))\n",
    "missing_ids"
   ]
  },
  {
   "cell_type": "code",
   "execution_count": 9,
   "metadata": {},
   "outputs": [
    {
     "name": "stdout",
     "output_type": "stream",
     "text": [
      "3420\n",
      "2819\n",
      "4950\n",
      "2339\n"
     ]
    }
   ],
   "source": [
    "def get_scraped_review_num(filepath):\n",
    "    df = pd.read_csv(filepath)\n",
    "    return len(df)\n",
    "\n",
    "files = [\"17346698-march\", \"29436571-march\", \"52211831-they-called-us-enemy\", \"22487952-march\"]\n",
    "\n",
    "for file in files:\n",
    "    print(get_scraped_review_num(f\"../../Data/Reviews_Scraped/Raw/{file}_reviews.csv\"))"
   ]
  },
  {
   "cell_type": "markdown",
   "metadata": {},
   "source": [
    "**Unscraped**\n",
    "\n",
    "63234758-growing-up-farley-a-chris-farley-story: no reviews\n",
    "\n",
    "57553105-cypress-hill-tres-equis: 0 reviews\n",
    "\n",
    "49930973-clayton: 0 reviews\n",
    "\n",
    "59113162-one-bourbon-one-scotch-one-beer: 0 reviews\n",
    "\n",
    "**Unfinished scraping**\n",
    "\n",
    "17346698-march: 5965 reviews, 3420 scraped\n",
    "\n",
    "22487952-march: 2712 reviews, 2339 scraped\n",
    "\n",
    "29436571-march: 3106 reviews, 2819 scraped\n",
    "\n",
    "52211831-they-called-us-enemy: 6449 reviews, 4950 scraped"
   ]
  },
  {
   "cell_type": "markdown",
   "metadata": {},
   "source": [
    "## Review number statistics"
   ]
  },
  {
   "cell_type": "code",
   "execution_count": 23,
   "metadata": {},
   "outputs": [],
   "source": [
    "# read in the metadata\n",
    "\n",
    "metadata = pd.read_excel(metadata_path, sheet_name=\"BOOK_SHEET\")\n",
    "\n",
    "# initiate book_review_df\n",
    "\n",
    "book_review_df = pd.DataFrame(columns=['goodreads_id', 'scraped_review_num'])\n",
    "\n",
    "# for each book in the metadata, check how many reviews are scraped\n",
    "\n",
    "collected_files = [f for f in os.listdir(review_path) if f.endswith('.csv')]\n",
    "\n",
    "# Create an empty list to collect all data rows\n",
    "data = []\n",
    "\n",
    "# for each book in the metadata, check how many reviews are scraped\n",
    "for _, row in metadata.iterrows():  # Use iterrows() to iterate over DataFrame rows\n",
    "    book_id = row[\"book_id\"]\n",
    "    goodreads_id = row['goodreads_id']\n",
    "\n",
    "    if f\"{goodreads_id}_reviews.csv\" in collected_files:\n",
    "        review_num = get_scraped_review_num(f\"../../Data/Reviews_Scraped/Raw/{goodreads_id}_reviews.csv\")\n",
    "    else:\n",
    "        review_num = 0\n",
    "\n",
    "    # Add each row to the list\n",
    "    data.append({'book_id': book_id, 'scraped_review_num': review_num})\n",
    "\n",
    "# Convert the list to DataFrame at once\n",
    "book_review_df = pd.DataFrame(data)\n"
   ]
  },
  {
   "cell_type": "code",
   "execution_count": 24,
   "metadata": {},
   "outputs": [],
   "source": [
    "# Save the DataFrame to an Excel file\n",
    "with pd.ExcelWriter(metadata_path, mode='a', engine='openpyxl', if_sheet_exists='new') as writer:\n",
    "    book_review_df.to_excel(writer, sheet_name=\"BOOK_REVIEW_SHEET\", index=False)"
   ]
  },
  {
   "cell_type": "code",
   "execution_count": 29,
   "metadata": {},
   "outputs": [
    {
     "data": {
      "image/png": "[encoded data removed]",
      "text/plain": [
       "<Figure size 1200x600 with 1 Axes>"
      ]
     },
     "metadata": {},
     "output_type": "display_data"
    }
   ],
   "source": [
    "# Plot the data\n",
    "plt.figure(figsize=(12, 6))\n",
    "plt.bar(book_review_df['book_id'], book_review_df['scraped_review_num'], color='skyblue')\n",
    "plt.xlabel('Book ID')\n",
    "plt.ylabel('Number of Scraped Reviews')\n",
    "plt.title('Number of Scraped Reviews per Book')\n",
    "plt.show()"
   ]
  },
  {
   "cell_type": "code",
   "execution_count": 32,
   "metadata": {},
   "outputs": [
    {
     "data": {
      "text/plain": [
       "count     228.00\n",
       "mean      176.24\n",
       "std       538.21\n",
       "min         0.00\n",
       "25%        19.00\n",
       "50%        51.50\n",
       "75%       127.50\n",
       "max      4950.00\n",
       "Name: scraped_review_num, dtype: float64"
      ]
     },
     "execution_count": 32,
     "metadata": {},
     "output_type": "execute_result"
    }
   ],
   "source": [
    "# Generate descriptive statistics for book_review_df\n",
    "book_review_df[\"scraped_review_num\"].describe().round(2)"
   ]
  },
  {
   "cell_type": "code",
   "execution_count": 33,
   "metadata": {},
   "outputs": [
    {
     "data": {
      "text/html": [
       "<div>\n",
       "<style scoped>\n",
       "    .dataframe tbody tr th:only-of-type {\n",
       "        vertical-align: middle;\n",
       "    }\n",
       "\n",
       "    .dataframe tbody tr th {\n",
       "        vertical-align: top;\n",
       "    }\n",
       "\n",
       "    .dataframe thead th {\n",
       "        text-align: right;\n",
       "    }\n",
       "</style>\n",
       "<table border=\"1\" class=\"dataframe\">\n",
       "  <thead>\n",
       "    <tr style=\"text-align: right;\">\n",
       "      <th></th>\n",
       "      <th>book_id</th>\n",
       "      <th>scraped_review_num</th>\n",
       "    </tr>\n",
       "  </thead>\n",
       "  <tbody>\n",
       "    <tr>\n",
       "      <th>83</th>\n",
       "      <td>84</td>\n",
       "      <td>4066</td>\n",
       "    </tr>\n",
       "    <tr>\n",
       "      <th>124</th>\n",
       "      <td>125</td>\n",
       "      <td>3420</td>\n",
       "    </tr>\n",
       "    <tr>\n",
       "      <th>126</th>\n",
       "      <td>127</td>\n",
       "      <td>4950</td>\n",
       "    </tr>\n",
       "    <tr>\n",
       "      <th>127</th>\n",
       "      <td>128</td>\n",
       "      <td>2339</td>\n",
       "    </tr>\n",
       "    <tr>\n",
       "      <th>129</th>\n",
       "      <td>130</td>\n",
       "      <td>2819</td>\n",
       "    </tr>\n",
       "  </tbody>\n",
       "</table>\n",
       "</div>"
      ],
      "text/plain": [
       "     book_id  scraped_review_num\n",
       "83        84                4066\n",
       "124      125                3420\n",
       "126      127                4950\n",
       "127      128                2339\n",
       "129      130                2819"
      ]
     },
     "execution_count": 33,
     "metadata": {},
     "output_type": "execute_result"
    }
   ],
   "source": [
    "large_review_df = book_review_df[book_review_df[\"scraped_review_num\"] > 1000]\n",
    "large_review_df"
   ]
  },
  {
   "cell_type": "code",
   "execution_count": 47,
   "metadata": {},
   "outputs": [
    {
     "data": {
      "text/html": [
       "<div>\n",
       "<style scoped>\n",
       "    .dataframe tbody tr th:only-of-type {\n",
       "        vertical-align: middle;\n",
       "    }\n",
       "\n",
       "    .dataframe tbody tr th {\n",
       "        vertical-align: top;\n",
       "    }\n",
       "\n",
       "    .dataframe thead th {\n",
       "        text-align: right;\n",
       "    }\n",
       "</style>\n",
       "<table border=\"1\" class=\"dataframe\">\n",
       "  <thead>\n",
       "    <tr style=\"text-align: right;\">\n",
       "      <th></th>\n",
       "      <th>book_id</th>\n",
       "      <th>goodreads_id</th>\n",
       "      <th>title</th>\n",
       "      <th>scraped_review_num</th>\n",
       "    </tr>\n",
       "  </thead>\n",
       "  <tbody>\n",
       "    <tr>\n",
       "      <th>0</th>\n",
       "      <td>84</td>\n",
       "      <td>13332696-my-friend-dahmer</td>\n",
       "      <td>My Friend Dahmer: A Gaphic Novel</td>\n",
       "      <td>4066</td>\n",
       "    </tr>\n",
       "    <tr>\n",
       "      <th>1</th>\n",
       "      <td>125</td>\n",
       "      <td>17346698-march</td>\n",
       "      <td>March: Book One</td>\n",
       "      <td>3420</td>\n",
       "    </tr>\n",
       "    <tr>\n",
       "      <th>2</th>\n",
       "      <td>127</td>\n",
       "      <td>52211831-they-called-us-enemy</td>\n",
       "      <td>They Called Us Enemy: Expanded Edition</td>\n",
       "      <td>4950</td>\n",
       "    </tr>\n",
       "    <tr>\n",
       "      <th>3</th>\n",
       "      <td>128</td>\n",
       "      <td>22487952-march</td>\n",
       "      <td>March: Book Two</td>\n",
       "      <td>2339</td>\n",
       "    </tr>\n",
       "    <tr>\n",
       "      <th>4</th>\n",
       "      <td>130</td>\n",
       "      <td>29436571-march</td>\n",
       "      <td>March: Book Three</td>\n",
       "      <td>2819</td>\n",
       "    </tr>\n",
       "  </tbody>\n",
       "</table>\n",
       "</div>"
      ],
      "text/plain": [
       "   book_id                   goodreads_id  \\\n",
       "0       84      13332696-my-friend-dahmer   \n",
       "1      125                 17346698-march   \n",
       "2      127  52211831-they-called-us-enemy   \n",
       "3      128                 22487952-march   \n",
       "4      130                 29436571-march   \n",
       "\n",
       "                                    title  scraped_review_num  \n",
       "0        My Friend Dahmer: A Gaphic Novel                4066  \n",
       "1                         March: Book One                3420  \n",
       "2  They Called Us Enemy: Expanded Edition                4950  \n",
       "3                         March: Book Two                2339  \n",
       "4                       March: Book Three                2819  "
      ]
     },
     "execution_count": 47,
     "metadata": {},
     "output_type": "execute_result"
    }
   ],
   "source": [
    "large_review_data = []\n",
    "\n",
    "for _, row in large_review_df.iterrows():\n",
    "    book_id = row[\"book_id\"]\n",
    "    goodreads_id = metadata[metadata[\"book_id\"] == book_id][\"goodreads_id\"].values[0]\n",
    "    title = metadata[metadata[\"book_id\"] == book_id][\"title\"].values[0]\n",
    "    scraped_review_num = row[\"scraped_review_num\"]\n",
    "    large_review_data.append({'book_id': book_id, 'goodreads_id': goodreads_id, 'title': title, 'scraped_review_num': scraped_review_num})\n",
    "\n",
    "# Convert the list to a DataFrame\n",
    "large_review_df = pd.DataFrame(large_review_data)\n",
    "large_review_df"
   ]
  },
  {
   "cell_type": "code",
   "execution_count": 35,
   "metadata": {},
   "outputs": [
    {
     "data": {
      "text/html": [
       "<div>\n",
       "<style scoped>\n",
       "    .dataframe tbody tr th:only-of-type {\n",
       "        vertical-align: middle;\n",
       "    }\n",
       "\n",
       "    .dataframe tbody tr th {\n",
       "        vertical-align: top;\n",
       "    }\n",
       "\n",
       "    .dataframe thead th {\n",
       "        text-align: right;\n",
       "    }\n",
       "</style>\n",
       "<table border=\"1\" class=\"dataframe\">\n",
       "  <thead>\n",
       "    <tr style=\"text-align: right;\">\n",
       "      <th></th>\n",
       "      <th>book_id</th>\n",
       "      <th>scraped_review_num</th>\n",
       "    </tr>\n",
       "  </thead>\n",
       "  <tbody>\n",
       "    <tr>\n",
       "      <th>0</th>\n",
       "      <td>1</td>\n",
       "      <td>79</td>\n",
       "    </tr>\n",
       "    <tr>\n",
       "      <th>1</th>\n",
       "      <td>2</td>\n",
       "      <td>28</td>\n",
       "    </tr>\n",
       "    <tr>\n",
       "      <th>2</th>\n",
       "      <td>3</td>\n",
       "      <td>72</td>\n",
       "    </tr>\n",
       "    <tr>\n",
       "      <th>3</th>\n",
       "      <td>4</td>\n",
       "      <td>62</td>\n",
       "    </tr>\n",
       "    <tr>\n",
       "      <th>4</th>\n",
       "      <td>5</td>\n",
       "      <td>48</td>\n",
       "    </tr>\n",
       "    <tr>\n",
       "      <th>...</th>\n",
       "      <td>...</td>\n",
       "      <td>...</td>\n",
       "    </tr>\n",
       "    <tr>\n",
       "      <th>223</th>\n",
       "      <td>224</td>\n",
       "      <td>69</td>\n",
       "    </tr>\n",
       "    <tr>\n",
       "      <th>224</th>\n",
       "      <td>225</td>\n",
       "      <td>18</td>\n",
       "    </tr>\n",
       "    <tr>\n",
       "      <th>225</th>\n",
       "      <td>226</td>\n",
       "      <td>7</td>\n",
       "    </tr>\n",
       "    <tr>\n",
       "      <th>226</th>\n",
       "      <td>227</td>\n",
       "      <td>70</td>\n",
       "    </tr>\n",
       "    <tr>\n",
       "      <th>227</th>\n",
       "      <td>228</td>\n",
       "      <td>37</td>\n",
       "    </tr>\n",
       "  </tbody>\n",
       "</table>\n",
       "<p>223 rows × 2 columns</p>\n",
       "</div>"
      ],
      "text/plain": [
       "     book_id  scraped_review_num\n",
       "0          1                  79\n",
       "1          2                  28\n",
       "2          3                  72\n",
       "3          4                  62\n",
       "4          5                  48\n",
       "..       ...                 ...\n",
       "223      224                  69\n",
       "224      225                  18\n",
       "225      226                   7\n",
       "226      227                  70\n",
       "227      228                  37\n",
       "\n",
       "[223 rows x 2 columns]"
      ]
     },
     "execution_count": 35,
     "metadata": {},
     "output_type": "execute_result"
    }
   ],
   "source": [
    "normal_review_df = book_review_df[~book_review_df[\"book_id\"].isin(large_review_df[\"book_id\"])]\n",
    "normal_review_df"
   ]
  },
  {
   "cell_type": "code",
   "execution_count": 38,
   "metadata": {},
   "outputs": [
    {
     "data": {
      "text/plain": [
       "count    223.00\n",
       "mean     101.29\n",
       "std      140.77\n",
       "min        0.00\n",
       "25%       19.00\n",
       "50%       48.00\n",
       "75%      116.50\n",
       "max      925.00\n",
       "Name: scraped_review_num, dtype: float64"
      ]
     },
     "execution_count": 38,
     "metadata": {},
     "output_type": "execute_result"
    }
   ],
   "source": [
    "normal_review_df[\"scraped_review_num\"].describe().round(2)"
   ]
  },
  {
   "cell_type": "code",
   "execution_count": 37,
   "metadata": {},
   "outputs": [
    {
     "data": {
      "image/png": "[encoded data removed]",
      "text/plain": [
       "<Figure size 1200x600 with 1 Axes>"
      ]
     },
     "metadata": {},
     "output_type": "display_data"
    }
   ],
   "source": [
    "plt.figure(figsize=(12, 6))\n",
    "plt.bar(normal_review_df['book_id'], normal_review_df['scraped_review_num'], color='skyblue')\n",
    "plt.xlabel('Book ID')\n",
    "plt.ylabel('Number of Scraped Reviews')\n",
    "plt.title('Number of Scraped Reviews per Book (review num < 1000)')\n",
    "plt.show()"
   ]
  },
  {
   "cell_type": "code",
   "execution_count": null,
   "metadata": {},
   "outputs": [],
   "source": []
  }
 ],
 "metadata": {
  "kernelspec": {
   "display_name": "pd_env",
   "language": "python",
   "name": "python3"
  },
  "language_info": {
   "codemirror_mode": {
    "name": "ipython",
    "version": 3
   },
   "file_extension": ".py",
   "mimetype": "text/x-python",
   "name": "python",
   "nbconvert_exporter": "python",
   "pygments_lexer": "ipython3",
   "version": "3.10.2"
  }
 },
 "nbformat": 4,
 "nbformat_minor": 2
}
