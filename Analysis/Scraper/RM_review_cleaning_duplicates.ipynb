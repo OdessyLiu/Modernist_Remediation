{
 "cells": [
  {
   "cell_type": "code",
   "execution_count": 1,
   "metadata": {},
   "outputs": [],
   "source": [
    "import pandas as pd\n",
    "import os"
   ]
  },
  {
   "cell_type": "code",
   "execution_count": 15,
   "metadata": {},
   "outputs": [],
   "source": [
    "def remove_duplicates(file_path):\n",
    "    if os.stat(file_path).st_size == 0:\n",
    "        print(f\"{file_path} is empty\")\n",
    "        return\n",
    "    \n",
    "    df = pd.read_csv(file_path)\n",
    "\n",
    "    if df.empty:\n",
    "        print(f\"{file_path} is empty\")\n",
    "        return\n",
    "    \n",
    "    cleaned_df = df.drop_duplicates(subset=['user_name','text'], ignore_index=True)\n",
    "    cleaned_df.to_csv(file_path, index=False, mode='w')"
   ]
  },
  {
   "cell_type": "code",
   "execution_count": 13,
   "metadata": {},
   "outputs": [],
   "source": [
    "def process_all_files(directory):\n",
    "    for filename in os.listdir(directory):\n",
    "        if filename.endswith(\".csv\"):\n",
    "            file_path = os.path.join(directory, filename)\n",
    "            remove_duplicates(file_path)\n",
    "            print(f\"Processed {filename}\")"
   ]
  },
  {
   "cell_type": "code",
   "execution_count": 17,
   "metadata": {},
   "outputs": [
    {
     "name": "stdout",
     "output_type": "stream",
     "text": [
      "Processed 61783881-frida-kahlo_reviews.csv\n",
      "Processed 28818236-the-trial-of-roger-casement_reviews.csv\n",
      "Processed 50915243-siberian-haiku_reviews.csv\n",
      "Processed 27219916-marie-antoinette-phantom-queen_reviews.csv\n",
      "Processed 25073670-will-eisner_reviews.csv\n",
      "Processed 10401677-kiki-de-montparnasse_reviews.csv\n",
      "Processed 42097094-guant-namo-kid_reviews.csv\n",
      "Processed 59060441-alice-guy_reviews.csv\n",
      "Processed 17594337-rembrandt_reviews.csv\n",
      "Processed 26240706-agatha_reviews.csv\n",
      "Processed 24886279-hysteria_reviews.csv\n",
      "Processed 35888383-photographic_reviews.csv\n",
      "Processed 34734476-monet_reviews.csv\n",
      "Processed 43908849-mozart-in-paris_reviews.csv\n",
      "Processed 62997519-mingus_reviews.csv\n",
      "Processed 18405540-the-boxer_reviews.csv\n",
      "Processed 13064246-hellraisers_reviews.csv\n",
      "Processed 58667551-georgia-o-keeffe_reviews.csv\n",
      "Processed 32713508-billie-holiday_reviews.csv\n",
      "Processed 194021582-prince-in-comics_reviews.csv\n",
      "Processed 53171661-leonardo-da-vinci_reviews.csv\n",
      "Processed 98650852-three-rocks_reviews.csv\n",
      "Processed 45180609-rodin_reviews.csv\n",
      "Processed 36258390-the-provocative-colette_reviews.csv\n",
      "Processed 29501179-elvis_reviews.csv\n",
      "Processed 174716416-washington-s-gay-general_reviews.csv\n",
      "Processed 41107919-basquiat_reviews.csv\n",
      "Processed 39830626-philip-k-dick_reviews.csv\n",
      "Processed 28818262-becoming-andy-warhol_reviews.csv\n",
      "Processed 31305515-gauguin_reviews.csv\n",
      "Processed 31305589-josephine-baker_reviews.csv\n",
      "Processed 26240580-munch_reviews.csv\n",
      "Processed 43253239-albert-einstein_reviews.csv\n",
      "Processed 51075282-zatopek_reviews.csv\n",
      "Processed 73924272-phoolan-devi_reviews.csv\n",
      "Processed 22312041-vincent_reviews.csv\n",
      "Processed 51075286-orwell_reviews.csv\n",
      "Processed 61783882-armed-with-madness_reviews.csv\n",
      "Processed 43908850-isadora_reviews.csv\n",
      "Processed 126121384-queen-in-comics_reviews.csv\n",
      "Processed 56969591-diego-rivera_reviews.csv\n",
      "Processed 58667424-joseph-smith-and-the-mormons_reviews.csv\n",
      "Processed 60500409-fists-raised_reviews.csv\n",
      "Processed 39830625-the-beatles-in-comics_reviews.csv\n",
      "Processed 34227628-magritte_reviews.csv\n",
      "Processed 54852191-love-me-please_reviews.csv\n",
      "Processed 61783879-starman_reviews.csv\n",
      "Processed 51075287-bunuel-in-the-labyrinth-of-the-turtles_reviews.csv\n",
      "Processed 50915328-altitude_reviews.csv\n",
      "Processed 32713786-sartre_reviews.csv\n",
      "Processed 50159157-glass-town_reviews.csv\n",
      "Processed 41219524-the-rolling-stones-in-comics_reviews.csv\n",
      "Processed 51075283-frink-and-freud_reviews.csv\n",
      "Processed 51074726-willie-nelson_reviews.csv\n",
      "Processed 34227681-nick-cave_reviews.csv\n",
      "Processed 178811173-degas-cassatt_reviews.csv\n",
      "Processed 36206207-niki-de-saint-phalle_reviews.csv\n",
      "Processed 28818347-dal_reviews.csv\n",
      "Processed 60310810-thomas-girtin_reviews.csv\n",
      "Processed 199598456-erased_reviews.csv\n",
      "Processed 58480576-django-hand-on-fire_reviews.csv\n",
      "Processed 29501178-glenn-gould_reviews.csv\n",
      "Processed 178810963-nina-simone-in-comics_reviews.csv\n",
      "Processed 26240662-woody-guthrie-and-the-dust-bowl-ballads_reviews.csv\n",
      "Processed 59485970-david-bowie-in-comics_reviews.csv\n",
      "Processed 10041326-baby-s-in-black_reviews.csv\n",
      "Processed 44661259-bob-marley-in-comics_reviews.csv\n",
      "Processed 45180626-michael-jackson-in-comics_reviews.csv\n",
      "Processed 6944736-johnny-cash_reviews.csv\n",
      "Processed 51075284-knock-out_reviews.csv\n",
      "Processed 2080794.Nat_Turner_reviews.csv\n",
      "Processed 27132988-thoreau_reviews.csv\n",
      "Processed 26240627-the-imitation-game_reviews.csv\n",
      "Processed 58320999-alfred-hitchcock_reviews.csv\n",
      "Processed 9401799-gonzo_reviews.csv\n",
      "Processed 23167772-pablo_reviews.csv\n",
      "Processed 26240623-an-olympic-dream_reviews.csv\n",
      "Processed 38748249-andy_reviews.csv\n",
      "Processed 56969413-flung-out-of-space_reviews.csv\n",
      "Processed 58321000-rosa-parks_reviews.csv\n",
      "Processed 31305559-haddon-hall_reviews.csv\n",
      "Processed 12179682-castro_reviews.csv\n"
     ]
    }
   ],
   "source": [
    "review_path = \"../../Data/Reviews_Scraped/Raw\"\n",
    "process_all_files(review_path)"
   ]
  },
  {
   "cell_type": "code",
   "execution_count": null,
   "metadata": {},
   "outputs": [],
   "source": []
  }
 ],
 "metadata": {
  "kernelspec": {
   "display_name": "pd_env",
   "language": "python",
   "name": "python3"
  },
  "language_info": {
   "codemirror_mode": {
    "name": "ipython",
    "version": 3
   },
   "file_extension": ".py",
   "mimetype": "text/x-python",
   "name": "python",
   "nbconvert_exporter": "python",
   "pygments_lexer": "ipython3",
   "version": "3.10.2"
  }
 },
 "nbformat": 4,
 "nbformat_minor": 2
}
